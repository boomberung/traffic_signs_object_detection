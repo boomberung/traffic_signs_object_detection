{
  "nbformat": 4,
  "nbformat_minor": 0,
  "metadata": {
    "colab": {
      "name": "Training_model.ipynb",
      "version": "0.3.2",
      "provenance": [],
      "collapsed_sections": []
    },
    "kernelspec": {
      "name": "python3",
      "display_name": "Python 3"
    },
    "accelerator": "GPU"
  },
  "cells": [
    {
      "metadata": {
        "id": "LOTHlJXNIaeo",
        "colab_type": "text"
      },
      "cell_type": "markdown",
      "source": [
        "# Обучение модели\n"
      ]
    },
    {
      "metadata": {
        "id": "HfYTZMOIIl-m",
        "colab_type": "text"
      },
      "cell_type": "markdown",
      "source": [
        "## Подготовка окружения"
      ]
    },
    {
      "metadata": {
        "id": "toIbMx1fIrRX",
        "colab_type": "text"
      },
      "cell_type": "markdown",
      "source": [
        "Монтируем google диск."
      ]
    },
    {
      "metadata": {
        "id": "o3h2yXKNFaLO",
        "colab_type": "code",
        "colab": {}
      },
      "cell_type": "code",
      "source": [
        "from google.colab import drive\n",
        "drive.mount('/content/drive')"
      ],
      "execution_count": 0,
      "outputs": []
    },
    {
      "metadata": {
        "id": "FAVyy9_qIuQS",
        "colab_type": "text"
      },
      "cell_type": "markdown",
      "source": [
        "Переходим в папку проекта."
      ]
    },
    {
      "metadata": {
        "id": "YHqi5VPCA-Lf",
        "colab_type": "code",
        "outputId": "da766371-f6a8-4957-b6cd-b97585727931",
        "colab": {
          "base_uri": "https://localhost:8080/",
          "height": 34
        }
      },
      "cell_type": "code",
      "source": [
        "cd /content/drive/My Drive/Colab Notebooks/models/research/"
      ],
      "execution_count": 0,
      "outputs": [
        {
          "output_type": "stream",
          "text": [
            "/content/drive/My Drive/Colab Notebooks/models/research\n"
          ],
          "name": "stdout"
        }
      ]
    },
    {
      "metadata": {
        "id": "gO9DzwrVIwgt",
        "colab_type": "text"
      },
      "cell_type": "markdown",
      "source": [
        "Загружаем необходимые библиотеки."
      ]
    },
    {
      "metadata": {
        "id": "0s5xERD4Avqy",
        "colab_type": "code",
        "colab": {}
      },
      "cell_type": "code",
      "source": [
        "!apt-get install protobuf-compiler python-pil python-lxml python-tk\n",
        "!pip install --user Cython\n",
        "!pip install --user contextlib2\n",
        "!pip install --user jupyter\n",
        "!pip install --user matplotlib\n",
        "!protoc object_detection/protos/*.proto --python_out=.\n",
        "!export PYTHONPATH=$PYTHONPATH:'pwd':'pwd'/slim\n",
        "!python setup.py build\n",
        "!python setup.py install"
      ],
      "execution_count": 0,
      "outputs": []
    },
    {
      "metadata": {
        "id": "O9qcFii0Izip",
        "colab_type": "text"
      },
      "cell_type": "markdown",
      "source": [
        "Импорты."
      ]
    },
    {
      "metadata": {
        "id": "oC-_mxCxCNP6",
        "colab_type": "code",
        "colab": {}
      },
      "cell_type": "code",
      "source": [
        "import sys, os\n",
        "\n",
        "#sys.path.append('models/research')\n",
        "#sys.path.append('models/research/object_detection')\n",
        "import sys\n",
        "#sys.path.append('drive/My Drive/Colab Notebooks/models/research/object_detection') # point to your tensorflow dir\n",
        "#sys.path.append('drive/My Drive/Colab Notebooks/models/research/object_detection/slim') # point ot your slim dir\n",
        "\n",
        "import numpy as np\n",
        "import six.moves.urllib as urllib\n",
        "import tarfile\n",
        "import zipfile\n",
        "from PIL import Image\n",
        "from matplotlib import pyplot as plt\n",
        "import tensorflow as tf\n",
        "from object_detection.utils import ops as utils_ops\n",
        "from utils import label_map_util\n",
        "from utils import visualization_utils as vis_util\n",
        "\n",
        "import sys\n",
        "#sys.path.append('/content/drive/My Drive/Colab Notebooks/models/research/object_detection') # point to your tensorflow dir\n",
        "#sys.path.append('/content/drive/My Drive/Colab Notebooks/models/research/object_detection/slim') # point ot your slim dir"
      ],
      "execution_count": 0,
      "outputs": []
    },
    {
      "metadata": {
        "id": "nDWzvzo_qD5l",
        "colab_type": "code",
        "colab": {}
      },
      "cell_type": "code",
      "source": [
        "import os\n",
        "os.environ['PYTHONPATH'] += ':/content/drive/My Drive/Colab Notebooks/models/research/:/content/drive/My Drive/Colab Notebooks/models/research/slim/'\n",
        "!export PYTHONPATH=\"$PYTHONPATH:/content/drive/My Drive/Colab Notebooks/models/research/slim\""
      ],
      "execution_count": 0,
      "outputs": []
    },
    {
      "metadata": {
        "id": "xTpl8E_8I9Pd",
        "colab_type": "text"
      },
      "cell_type": "markdown",
      "source": [
        "## Обучение и экспорт"
      ]
    },
    {
      "metadata": {
        "id": "PuOigz5ctpW4",
        "colab_type": "code",
        "outputId": "5033a20a-fe7c-44bb-e56e-88cf3059206f",
        "colab": {
          "base_uri": "https://localhost:8080/",
          "height": 34
        }
      },
      "cell_type": "code",
      "source": [
        "cd ./object_detection/legacy/"
      ],
      "execution_count": 0,
      "outputs": [
        {
          "output_type": "stream",
          "text": [
            "/content/drive/My Drive/Colab Notebooks/models/research/object_detection/legacy\n"
          ],
          "name": "stdout"
        }
      ]
    },
    {
      "metadata": {
        "id": "h2EdxaflI2-X",
        "colab_type": "text"
      },
      "cell_type": "markdown",
      "source": [
        "Обучение pre-trained ssd_mobilenet_v1_coco модели."
      ]
    },
    {
      "metadata": {
        "id": "obdLRSpktpNL",
        "colab_type": "code",
        "colab": {}
      },
      "cell_type": "code",
      "source": [
        "!python train.py --logtostderr --train_dir=training/ --pipeline_config_path=training/ssd_mobilenet_v1_coco.config"
      ],
      "execution_count": 0,
      "outputs": []
    },
    {
      "metadata": {
        "id": "QiavENCF5fGR",
        "colab_type": "code",
        "outputId": "65283807-b64f-4320-d79c-e5caebd1885c",
        "colab": {
          "base_uri": "https://localhost:8080/",
          "height": 34
        }
      },
      "cell_type": "code",
      "source": [
        "cd .."
      ],
      "execution_count": 0,
      "outputs": [
        {
          "output_type": "stream",
          "text": [
            "/content/drive/My Drive/Colab Notebooks/models/research/object_detection\n"
          ],
          "name": "stdout"
        }
      ]
    },
    {
      "metadata": {
        "id": "WzPyY9d6JI9Z",
        "colab_type": "text"
      },
      "cell_type": "markdown",
      "source": [
        "Экспорт модели в frozen_graph."
      ]
    },
    {
      "metadata": {
        "id": "qe2WW4T-IfgT",
        "colab_type": "code",
        "colab": {}
      },
      "cell_type": "code",
      "source": [
        "!python export_inference_graph.py --input_type image_tensor --pipeline_config_path legacy/training/ssd_mobilenet_v1_coco.config --trained_checkpoint_prefix legacy/training/model.ckpt-20940 --output_directory bless_rng"
      ],
      "execution_count": 0,
      "outputs": []
    }
  ]
}